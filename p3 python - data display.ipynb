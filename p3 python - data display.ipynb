{
 "cells": [
  {
   "cell_type": "code",
   "execution_count": 1,
   "id": "8066c91f-33e9-40b6-b72f-241c2ad573e8",
   "metadata": {},
   "outputs": [],
   "source": [
    "import pandas as pd\n",
    "import matplotlib as mpl\n",
    "import matplotlib.pyplot as plt\n",
    "import numpy as np"
   ]
  },
  {
   "cell_type": "code",
   "execution_count": null,
   "id": "46d7107c-8506-4e83-9edb-21d71b9c549e",
   "metadata": {},
   "outputs": [],
   "source": [
    "במסמך זה אציג ניתוח ביצועי לאורך שנת 2024.\n",
    "המטרה של המידע שיוצג הינה להבין את מצב האתר, מגמות בפעולות הגולשים"
   ]
  },
  {
   "cell_type": "code",
   "execution_count": 2,
   "id": "89b30012-6ef0-42d7-a56c-50ecd260fb28",
   "metadata": {},
   "outputs": [
    {
     "ename": "SyntaxError",
     "evalue": "invalid syntax (2520916330.py, line 1)",
     "output_type": "error",
     "traceback": [
      "\u001b[1;36m  Cell \u001b[1;32mIn[2], line 1\u001b[1;36m\u001b[0m\n\u001b[1;33m    תצוגת כניסת גולשים פי ערוצים.\u001b[0m\n\u001b[1;37m          ^\u001b[0m\n\u001b[1;31mSyntaxError\u001b[0m\u001b[1;31m:\u001b[0m invalid syntax\n"
     ]
    }
   ],
   "source": [
    "תצוגת כניסת גולשים פי ערוצים.\n",
    "כניסות אורגניות - גולשים שהגיעו לאתר דרך חיפוש בגוגל\n",
    "כניסות חברתיות אורגניות - אנשים שהגיעו לאתר דרך רשתות חברתיות, על-ידי הקלקה על קישור שפורסם על על-ידי העסק או על-ידי משתמשים\n",
    "כניסות חברתיות בתשלום - גולשים שהגיעו לאתר דרך רשתות חברתיות, עי-ידי הקלקה על מודעות ממומנות של העסק\n",
    "הודעות בתשלום - גולשים שהגיעו לאתר דרך מודעות ממומנות של מערכת גוגל\n",
    "כניסות ישירות - גולשים שהגיעו לאתר באופן ישיר, כלומר דרך הקלדת כתובת האתר, שמירת האתר בספריית מועדפים או דרך קישור שלא ניתון לייחסו כגון קישור ממסמך אקסל"
   ]
  },
  {
   "cell_type": "code",
   "execution_count": null,
   "id": "15d75443-ccc1-4551-a553-ef68735ef114",
   "metadata": {},
   "outputs": [],
   "source": [
    "כעת נבדוק את יחס המבקרים באתר לפי אמצעי גלישה, טלפון מול מחשב."
   ]
  },
  {
   "cell_type": "code",
   "execution_count": null,
   "id": "483642a4-ba0c-4e9d-bd1f-361e794a4025",
   "metadata": {},
   "outputs": [],
   "source": [
    "נבחן כעת המרות, זו הפעולה הרצויה על ידי בעל האתר. במקר זה מדובר בשיחות טלפון"
   ]
  },
  {
   "cell_type": "code",
   "execution_count": null,
   "id": "ce9da4d6-6031-42a9-89bd-e61be0e7c3e5",
   "metadata": {},
   "outputs": [],
   "source": [
    "כעת נבדוק את מאמצי הקידום בגוגל אדס, נראה את ביצועי הפרסום לאורך שנה"
   ]
  }
 ],
 "metadata": {
  "kernelspec": {
   "display_name": "Python 3 (ipykernel)",
   "language": "python",
   "name": "python3"
  },
  "language_info": {
   "codemirror_mode": {
    "name": "ipython",
    "version": 3
   },
   "file_extension": ".py",
   "mimetype": "text/x-python",
   "name": "python",
   "nbconvert_exporter": "python",
   "pygments_lexer": "ipython3",
   "version": "3.12.5"
  }
 },
 "nbformat": 4,
 "nbformat_minor": 5
}
